{
 "cells": [
  {
   "cell_type": "markdown",
   "metadata": {},
   "source": [
    "# kana"
   ]
  },
  {
   "cell_type": "code",
   "execution_count": null,
   "metadata": {},
   "outputs": [],
   "source": [
    "from collections import OrderedDict\n",
    "\n",
    "kana_by_char = \\\n",
    "    zip([ 'a',  'i',  'e',  'o',  'u'], ['あ', 'い', 'え', 'お', 'う']) + \\\n",
    "    zip(['ka', 'ki', 'ke', 'ko', 'ku'], ['か', 'き', 'け', 'こ', 'く']) + \\\n",
    "    zip(['ga', 'gi', 'ge', 'go', 'gu'], ['が', 'ぎ', 'げ', 'ご', 'ぐ']) + \\\n",
    "    zip(['sa', 'shi', 'se', 'so', 'su'], ['さ', 'し', 'せ', 'そ', 'す']) + \\\n",
    "    zip(['za', 'zi', 'ze', 'zo', 'zu'], ['ざ', 'じ', 'ぜ', 'ぞ', 'ず']) + \\\n",
    "    zip(['ta', 'chi', 'te', 'to', 'tsu'], ['た', 'ち', 'て', 'と', 'つ']) + \\\n",
    "    zip(['da', 'ji', 'de', 'do', 'zu'], ['だ', 'ぢ', 'で', 'ど', 'づ']) + \\\n",
    "    zip(['na', 'ni', 'ne', 'no', 'nu'], ['な', 'に', 'ね', 'の', 'ぬ']) + \\\n",
    "    zip(['ha', 'hi', 'he', 'ho', 'fu'], ['は', 'ひ', 'へ', 'ほ', 'ふ']) + \\\n",
    "    zip(['ba', 'bi', 'be', 'bo', 'bu'], ['ば', 'び', 'べ', 'ぼ', 'ぶ']) + \\\n",
    "    zip(['pa', 'pi', 'pe', 'po', 'pu'], ['ぱ', 'ぴ', 'ぺ', 'ぽ', 'ぷ']) + \\\n",
    "    zip(['ma', 'mi', 'me', 'mo', 'mu'], ['ま', 'み', 'め', 'も', 'む']) + \\\n",
    "    zip(['ra', 'ri', 're', 'ro', 'ru'], ['ら', 'り', 'る', 'れ', 'ろ']) + \\\n",
    "    zip(['ya', 'yu', 'yo'], ['や', 'ゆ', 'よ']) + \\\n",
    "    zip(['wa', 'wo'], ['わ', 'を']) + \\\n",
    "    zip(['n'], ['ん'])\n",
    "\n",
    "kana_by_char = sorted(kana_by_char, key=lambda x: len(x[0]))\n",
    "kana_by_char = OrderedDict(list(reversed(kana_by_char)))"
   ]
  },
  {
   "cell_type": "markdown",
   "metadata": {},
   "source": [
    "# translate function"
   ]
  },
  {
   "cell_type": "code",
   "execution_count": null,
   "metadata": {},
   "outputs": [],
   "source": [
    "def translate(word):\n",
    "    for char, kana in kana_by_char.items():\n",
    "        word = word.replace(char, kana)\n",
    "    return word\n",
    "\n",
    "translate('hajimemashite')"
   ]
  },
  {
   "cell_type": "markdown",
   "metadata": {},
   "source": [
    "# app"
   ]
  },
  {
   "cell_type": "code",
   "execution_count": null,
   "metadata": {},
   "outputs": [],
   "source": [
    "from flask import Flask\n",
    "\n",
    "app = Flask(__name__)\n",
    "\n",
    "@app.route('/<word>')\n",
    "def hello(word):\n",
    "    word = str(word)\n",
    "    return translate(word)\n",
    "\n",
    "app.run()"
   ]
  }
 ],
 "metadata": {
  "kernelspec": {
   "display_name": "Python 2",
   "language": "python",
   "name": "python2"
  },
  "language_info": {
   "codemirror_mode": {
    "name": "ipython",
    "version": 2
   },
   "file_extension": ".py",
   "mimetype": "text/x-python",
   "name": "python",
   "nbconvert_exporter": "python",
   "pygments_lexer": "ipython2",
   "version": "2.7.16"
  }
 },
 "nbformat": 4,
 "nbformat_minor": 2
}
